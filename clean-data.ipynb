{
 "cells": [
  {
   "cell_type": "code",
   "execution_count": 1,
   "id": "09f65b0a",
   "metadata": {},
   "outputs": [],
   "source": [
    "import pandas as pd\n",
    "from tqdm.auto import tqdm\n",
    "\n",
    "from pathlib import Path\n",
    "import requests"
   ]
  },
  {
   "cell_type": "code",
   "execution_count": 4,
   "id": "1c33044a",
   "metadata": {},
   "outputs": [],
   "source": [
    "from concurrent.futures import ProcessPoolExecutor\n",
    "from concurrent.futures import ThreadPoolExecutor\n",
    "\n",
    "pool = ThreadPoolExecutor(12)"
   ]
  },
  {
   "cell_type": "code",
   "execution_count": 5,
   "id": "785bc23d",
   "metadata": {},
   "outputs": [],
   "source": [
    "def map_progress(pool, seq, f):\n",
    "    results = []\n",
    "\n",
    "    with tqdm(total=len(seq)) as progress:\n",
    "        futures = []\n",
    "\n",
    "        for el in seq:\n",
    "            future = pool.submit(f, el)\n",
    "            future.add_done_callback(lambda p: progress.update())\n",
    "            futures.append(future)\n",
    "\n",
    "        for future in futures:\n",
    "            result = future.result()\n",
    "            results.append(result)\n",
    "\n",
    "    return results"
   ]
  },
  {
   "cell_type": "code",
   "execution_count": 38,
   "id": "d8d9c477",
   "metadata": {},
   "outputs": [],
   "source": [
    "def download_and_save(record):\n",
    "    image_url = record['image_url']\n",
    "    label = record['label']\n",
    "    \n",
    "    filename = image_url.split('/')[-1]\n",
    "    fullpath = Path('data') / label / filename\n",
    "\n",
    "    fullpath.parent.mkdir(parents=True, exist_ok=True)\n",
    "\n",
    "    if fullpath.exists():\n",
    "        return fullpath\n",
    "\n",
    "    image_resp = requests.get(image_url)\n",
    "    \n",
    "    with fullpath.open(mode='wb') as f_out:\n",
    "        f_out.write(image_resp.content)\n",
    "    \n",
    "    return fullpath"
   ]
  },
  {
   "cell_type": "code",
   "execution_count": 33,
   "id": "04d23c77",
   "metadata": {},
   "outputs": [],
   "source": [
    "df = pd.read_csv('data-all.csv')"
   ]
  },
  {
   "cell_type": "code",
   "execution_count": 37,
   "id": "a5449953",
   "metadata": {},
   "outputs": [
    {
     "data": {
      "text/plain": [
       "False"
      ]
     },
     "execution_count": 37,
     "metadata": {},
     "output_type": "execute_result"
    }
   ],
   "source": []
  },
  {
   "cell_type": "code",
   "execution_count": 34,
   "id": "0fc07cc1",
   "metadata": {},
   "outputs": [
    {
     "data": {
      "text/plain": [
       "8214"
      ]
     },
     "execution_count": 34,
     "metadata": {},
     "output_type": "execute_result"
    }
   ],
   "source": [
    "len(df)"
   ]
  },
  {
   "cell_type": "code",
   "execution_count": 39,
   "id": "e4e70ae9",
   "metadata": {},
   "outputs": [
    {
     "data": {
      "application/vnd.jupyter.widget-view+json": {
       "model_id": "e00b6ccfd8844c93b30c8aea1c8ebc05",
       "version_major": 2,
       "version_minor": 0
      },
      "text/plain": [
       "  0%|          | 0/8214 [00:00<?, ?it/s]"
      ]
     },
     "metadata": {},
     "output_type": "display_data"
    }
   ],
   "source": [
    "records = df.to_dict(orient='records')\n",
    "paths = map_progress(pool, records, download_and_save)"
   ]
  },
  {
   "cell_type": "code",
   "execution_count": 40,
   "id": "fd44b1b9",
   "metadata": {},
   "outputs": [
    {
     "data": {
      "text/plain": [
       "WindowsPath('data/plate/eu.a3da0582-366d-4428-a595-fdd750be7562.jpg')"
      ]
     },
     "execution_count": 40,
     "metadata": {},
     "output_type": "execute_result"
    }
   ],
   "source": [
    "paths[16]"
   ]
  },
  {
   "cell_type": "code",
   "execution_count": 41,
   "id": "df330b2f",
   "metadata": {},
   "outputs": [],
   "source": [
    "from glob import glob"
   ]
  },
  {
   "cell_type": "code",
   "execution_count": 46,
   "id": "65b3e94e",
   "metadata": {},
   "outputs": [],
   "source": [
    "files = sorted(Path('data').glob('*/*'))"
   ]
  },
  {
   "cell_type": "code",
   "execution_count": 63,
   "id": "b31ee2b1",
   "metadata": {},
   "outputs": [
    {
     "data": {
      "text/plain": [
       "('data', 'cup', 'eu.0016a837-6584-4276-82b3-211a053e84f8.jpg')"
      ]
     },
     "execution_count": 63,
     "metadata": {},
     "output_type": "execute_result"
    }
   ],
   "source": []
  },
  {
   "cell_type": "code",
   "execution_count": 50,
   "id": "fff7ac00",
   "metadata": {},
   "outputs": [],
   "source": [
    "import random"
   ]
  },
  {
   "cell_type": "code",
   "execution_count": 67,
   "id": "35a783b0",
   "metadata": {},
   "outputs": [],
   "source": [
    "records = []\n",
    "\n",
    "for file in files:\n",
    "    parts = file.parts\n",
    "    \n",
    "    label = parts[1]\n",
    "    name = parts[-1].split('.')[1]\n",
    "\n",
    "    h = hash(name) % 10\n",
    "    records.append((name, label, h >= 7))"
   ]
  },
  {
   "cell_type": "code",
   "execution_count": 71,
   "id": "0140040a",
   "metadata": {},
   "outputs": [],
   "source": [
    "df_final = pd.DataFrame(records, columns=['file', 'label', 'test'])"
   ]
  },
  {
   "cell_type": "code",
   "execution_count": 72,
   "id": "e9710cf6",
   "metadata": {},
   "outputs": [],
   "source": [
    "df_final.to_csv('final-data.csv', index=False)"
   ]
  },
  {
   "cell_type": "code",
   "execution_count": 73,
   "id": "9c039f09",
   "metadata": {},
   "outputs": [],
   "source": [
    "df_train = df_final[df_final.test == False]\n",
    "del df_train['test']\n",
    "df_train.to_csv('train.csv')\n",
    "\n",
    "df_test = df_final[df_final.test == True]\n",
    "del df_test['test']\n",
    "df_test.to_csv('test.csv')\n"
   ]
  },
  {
   "cell_type": "code",
   "execution_count": null,
   "id": "b15092d4",
   "metadata": {},
   "outputs": [],
   "source": []
  }
 ],
 "metadata": {
  "kernelspec": {
   "display_name": "Python 3 (ipykernel)",
   "language": "python",
   "name": "python3"
  },
  "language_info": {
   "codemirror_mode": {
    "name": "ipython",
    "version": 3
   },
   "file_extension": ".py",
   "mimetype": "text/x-python",
   "name": "python",
   "nbconvert_exporter": "python",
   "pygments_lexer": "ipython3",
   "version": "3.9.13"
  }
 },
 "nbformat": 4,
 "nbformat_minor": 5
}
