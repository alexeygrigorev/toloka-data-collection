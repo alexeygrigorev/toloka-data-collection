{
 "cells": [
  {
   "cell_type": "code",
   "execution_count": 1,
   "id": "30be7961",
   "metadata": {},
   "outputs": [],
   "source": [
    "%load_ext autoreload\n",
    "%autoreload 2"
   ]
  },
  {
   "cell_type": "code",
   "execution_count": 3,
   "id": "5e452b24",
   "metadata": {},
   "outputs": [],
   "source": [
    "import util"
   ]
  },
  {
   "cell_type": "code",
   "execution_count": 4,
   "id": "f6214ca1",
   "metadata": {},
   "outputs": [
    {
     "data": {
      "text/plain": [
       "ObjectApiResponse({'name': '29617d95b9d1', 'cluster_name': 'docker-cluster', 'cluster_uuid': 'axIx5HhRQY6iIouQ_OkZ1A', 'version': {'number': '8.5.1', 'build_flavor': 'default', 'build_type': 'docker', 'build_hash': 'c1310c45fc534583afe2c1c03046491efba2bba2', 'build_date': '2022-11-09T21:02:20.169855900Z', 'build_snapshot': False, 'lucene_version': '9.4.1', 'minimum_wire_compatibility_version': '7.17.0', 'minimum_index_compatibility_version': '7.0.0'}, 'tagline': 'You Know, for Search'})"
      ]
     },
     "execution_count": 4,
     "metadata": {},
     "output_type": "execute_result"
    }
   ],
   "source": [
    "from elasticsearch import Elasticsearch\n",
    "client = Elasticsearch(\"http://localhost:9200\", basic_auth=('elastic', 'changeme'))\n",
    "client.info()"
   ]
  },
  {
   "cell_type": "code",
   "execution_count": 5,
   "id": "a15cab70",
   "metadata": {},
   "outputs": [
    {
     "name": "stderr",
     "output_type": "stream",
     "text": [
      "C:\\Users\\alexe\\AppData\\Local\\Temp\\ipykernel_2940\\4119690729.py:13: DeprecationWarning: Passing transport options in the API method is deprecated. Use 'Elasticsearch.options()' instead.\n",
      "  client.indices.delete(index='attachment', ignore=404)\n",
      "C:\\Users\\alexe\\AppData\\Local\\Temp\\ipykernel_2940\\4119690729.py:14: DeprecationWarning: The 'body' parameter is deprecated and will be removed in a future version. Instead use individual parameters.\n",
      "  client.indices.create(index='attachment', body=attachment_schema)\n"
     ]
    },
    {
     "data": {
      "text/plain": [
       "ObjectApiResponse({'acknowledged': True, 'shards_acknowledged': True, 'index': 'attachment'})"
      ]
     },
     "execution_count": 5,
     "metadata": {},
     "output_type": "execute_result"
    }
   ],
   "source": [
    "if False:\n",
    "    attachment_schema = {\n",
    "        \"settings\": {\"number_of_shards\": 1},\n",
    "        \"mappings\": {            \n",
    "            \"properties\": {\n",
    "                \"md5\": {\"type\": \"keyword\"},\n",
    "                \"phash\": {\"type\": \"keyword\"},\n",
    "                \"dhash\": {\"type\": \"keyword\"},\n",
    "                \"whash\": {\"type\": \"keyword\"},\n",
    "            }\n",
    "        },\n",
    "    }\n",
    "\n",
    "    client.indices.delete(index='attachment', ignore=404)\n",
    "    client.indices.create(index='attachment', body=attachment_schema)"
   ]
  },
  {
   "cell_type": "code",
   "execution_count": 65,
   "id": "c2cdbfc2",
   "metadata": {},
   "outputs": [],
   "source": [
    "pool = ThreadPoolExecutor()"
   ]
  },
  {
   "cell_type": "code",
   "execution_count": 66,
   "id": "88755d4b",
   "metadata": {},
   "outputs": [],
   "source": [
    "df = pd.read_csv('data/assignments_from_pool_36403182__16-11-2022.tsv', sep='\\t')"
   ]
  },
  {
   "cell_type": "code",
   "execution_count": 125,
   "id": "4eaa15fb",
   "metadata": {},
   "outputs": [
    {
     "data": {
      "text/html": [
       "<div>\n",
       "<style scoped>\n",
       "    .dataframe tbody tr th:only-of-type {\n",
       "        vertical-align: middle;\n",
       "    }\n",
       "\n",
       "    .dataframe tbody tr th {\n",
       "        vertical-align: top;\n",
       "    }\n",
       "\n",
       "    .dataframe thead th {\n",
       "        text-align: right;\n",
       "    }\n",
       "</style>\n",
       "<table border=\"1\" class=\"dataframe\">\n",
       "  <thead>\n",
       "    <tr style=\"text-align: right;\">\n",
       "      <th></th>\n",
       "      <th>INPUT:id</th>\n",
       "      <th>OUTPUT:class</th>\n",
       "      <th>OUTPUT:image</th>\n",
       "      <th>GOLDEN:class</th>\n",
       "      <th>HINT:text</th>\n",
       "      <th>HINT:default_language</th>\n",
       "      <th>ASSIGNMENT:link</th>\n",
       "      <th>ASSIGNMENT:task_id</th>\n",
       "      <th>ASSIGNMENT:assignment_id</th>\n",
       "      <th>ASSIGNMENT:worker_id</th>\n",
       "      <th>ASSIGNMENT:status</th>\n",
       "      <th>ASSIGNMENT:started</th>\n",
       "      <th>ACCEPT:verdict</th>\n",
       "      <th>ACCEPT:comment</th>\n",
       "    </tr>\n",
       "  </thead>\n",
       "  <tbody>\n",
       "    <tr>\n",
       "      <th>0</th>\n",
       "      <td>5</td>\n",
       "      <td>plate</td>\n",
       "      <td>eu.ef0918b1-6867-4903-b1a2-b3f976c81868</td>\n",
       "      <td>NaN</td>\n",
       "      <td>NaN</td>\n",
       "      <td>NaN</td>\n",
       "      <td>https://toloka.yandex.ru/task/36403182/00022b7...</td>\n",
       "      <td>93afca57-1512-424b-af86-872651e0b7b4</td>\n",
       "      <td>00022b77ee--6374dde990c64e0edecb7d2e</td>\n",
       "      <td>d89422cad3fbc77d3e9fa8c9fe04ebc6</td>\n",
       "      <td>APPROVED</td>\n",
       "      <td>2022-11-16T12:56:09.151</td>\n",
       "      <td>+</td>\n",
       "      <td>NaN</td>\n",
       "    </tr>\n",
       "    <tr>\n",
       "      <th>1</th>\n",
       "      <td>42</td>\n",
       "      <td>fork</td>\n",
       "      <td>eu.2ee9ac0e-8e8a-4b17-9122-2e31fe753b90</td>\n",
       "      <td>NaN</td>\n",
       "      <td>NaN</td>\n",
       "      <td>NaN</td>\n",
       "      <td>https://toloka.yandex.ru/task/36403182/00022b7...</td>\n",
       "      <td>a489cf1d-0405-4c2d-98e0-a2b6e18b4d7c</td>\n",
       "      <td>00022b77ee--6374ddebc11de57cfa4513f6</td>\n",
       "      <td>3b3f05d140d48e3d287ae403e8cfbcd9</td>\n",
       "      <td>APPROVED</td>\n",
       "      <td>2022-11-16T12:56:11.785</td>\n",
       "      <td>+</td>\n",
       "      <td>NaN</td>\n",
       "    </tr>\n",
       "    <tr>\n",
       "      <th>2</th>\n",
       "      <td>56</td>\n",
       "      <td>knife</td>\n",
       "      <td>eu.dfb4b730-1c1d-48ce-bd65-ab50d4c7dcf3</td>\n",
       "      <td>NaN</td>\n",
       "      <td>NaN</td>\n",
       "      <td>NaN</td>\n",
       "      <td>https://toloka.yandex.ru/task/36403182/00022b7...</td>\n",
       "      <td>55e07530-83fe-41ae-8102-97493a6b22ab</td>\n",
       "      <td>00022b77ee--6374ddffdc8ddf15d372b807</td>\n",
       "      <td>847e53fa8099557dfb8fc14707e1b45e</td>\n",
       "      <td>APPROVED</td>\n",
       "      <td>2022-11-16T12:56:31.859</td>\n",
       "      <td>+</td>\n",
       "      <td>NaN</td>\n",
       "    </tr>\n",
       "    <tr>\n",
       "      <th>3</th>\n",
       "      <td>2</td>\n",
       "      <td>knife</td>\n",
       "      <td>eu.291843ca-d58a-414b-b7db-7eae23f07a61</td>\n",
       "      <td>NaN</td>\n",
       "      <td>NaN</td>\n",
       "      <td>NaN</td>\n",
       "      <td>https://toloka.yandex.ru/task/36403182/00022b7...</td>\n",
       "      <td>7d5e85b1-3fe1-4760-b27f-d08883ab4460</td>\n",
       "      <td>00022b77ee--6374de099069a1738b88d7ec</td>\n",
       "      <td>af527363b713e4a4e308e81725f2f87f</td>\n",
       "      <td>APPROVED</td>\n",
       "      <td>2022-11-16T12:56:41.182</td>\n",
       "      <td>+</td>\n",
       "      <td>NaN</td>\n",
       "    </tr>\n",
       "    <tr>\n",
       "      <th>4</th>\n",
       "      <td>80</td>\n",
       "      <td>plate</td>\n",
       "      <td>eu.a4baccd3-6ca1-4524-843f-9b2ff09fb20f</td>\n",
       "      <td>NaN</td>\n",
       "      <td>NaN</td>\n",
       "      <td>NaN</td>\n",
       "      <td>https://toloka.yandex.ru/task/36403182/00022b7...</td>\n",
       "      <td>e6e2b2b5-0e03-43e8-bbe9-4254eac91b43</td>\n",
       "      <td>00022b77ee--6374de0c863b5d79753885fd</td>\n",
       "      <td>139791b8f25dd9d1b97978c493809d20</td>\n",
       "      <td>APPROVED</td>\n",
       "      <td>2022-11-16T12:56:44.752</td>\n",
       "      <td>+</td>\n",
       "      <td>NaN</td>\n",
       "    </tr>\n",
       "    <tr>\n",
       "      <th>...</th>\n",
       "      <td>...</td>\n",
       "      <td>...</td>\n",
       "      <td>...</td>\n",
       "      <td>...</td>\n",
       "      <td>...</td>\n",
       "      <td>...</td>\n",
       "      <td>...</td>\n",
       "      <td>...</td>\n",
       "      <td>...</td>\n",
       "      <td>...</td>\n",
       "      <td>...</td>\n",
       "      <td>...</td>\n",
       "      <td>...</td>\n",
       "      <td>...</td>\n",
       "    </tr>\n",
       "    <tr>\n",
       "      <th>95</th>\n",
       "      <td>34</td>\n",
       "      <td>cup</td>\n",
       "      <td>eu.61415209-187f-41f9-9cfc-1eda8d26485f</td>\n",
       "      <td>NaN</td>\n",
       "      <td>NaN</td>\n",
       "      <td>NaN</td>\n",
       "      <td>https://toloka.yandex.ru/task/36403182/00022b7...</td>\n",
       "      <td>a150fd9c-e7d1-4ff9-99be-e093c1cc585f</td>\n",
       "      <td>00022b77ee--6374e35ec4d9875251374b19</td>\n",
       "      <td>514a8effbbdb0f005a673e8e7a2c6f49</td>\n",
       "      <td>REJECTED</td>\n",
       "      <td>2022-11-16T13:19:26.515</td>\n",
       "      <td>-</td>\n",
       "      <td>incorrect label</td>\n",
       "    </tr>\n",
       "    <tr>\n",
       "      <th>96</th>\n",
       "      <td>23</td>\n",
       "      <td>other</td>\n",
       "      <td>eu.0b781186-f3b6-4940-93e0-c2944c08a5ba</td>\n",
       "      <td>NaN</td>\n",
       "      <td>NaN</td>\n",
       "      <td>NaN</td>\n",
       "      <td>https://toloka.yandex.ru/task/36403182/00022b7...</td>\n",
       "      <td>c8501d8b-a142-4ec1-9cbf-320a91d4be1f</td>\n",
       "      <td>00022b77ee--6374e382126b9f0dd5e4b669</td>\n",
       "      <td>aa930f811d64c7f4ee101c3505145401</td>\n",
       "      <td>REJECTED</td>\n",
       "      <td>2022-11-16T13:20:02.588</td>\n",
       "      <td>-</td>\n",
       "      <td>not kitchenware</td>\n",
       "    </tr>\n",
       "    <tr>\n",
       "      <th>97</th>\n",
       "      <td>14</td>\n",
       "      <td>plate</td>\n",
       "      <td>eu.0add312b-502f-461c-bafe-6d0eb63c21f4</td>\n",
       "      <td>NaN</td>\n",
       "      <td>NaN</td>\n",
       "      <td>NaN</td>\n",
       "      <td>https://toloka.yandex.ru/task/36403182/00022b7...</td>\n",
       "      <td>f77f229c-721f-4244-884b-2cc35f32eae4</td>\n",
       "      <td>00022b77ee--6374e383c11de57cfa457a61</td>\n",
       "      <td>985950b7b4fc111bdef28369295ced29</td>\n",
       "      <td>REJECTED</td>\n",
       "      <td>2022-11-16T13:20:03.742</td>\n",
       "      <td>-</td>\n",
       "      <td>stock</td>\n",
       "    </tr>\n",
       "    <tr>\n",
       "      <th>98</th>\n",
       "      <td>25</td>\n",
       "      <td>spoon</td>\n",
       "      <td>eu.ee27e6a9-8c4d-4457-b07c-bd205442b1ec</td>\n",
       "      <td>NaN</td>\n",
       "      <td>NaN</td>\n",
       "      <td>NaN</td>\n",
       "      <td>https://toloka.yandex.ru/task/36403182/00022b7...</td>\n",
       "      <td>2dfdb66f-30fd-4ff2-b5a4-e8c6a1a8209f</td>\n",
       "      <td>00022b77ee--6374e385c11de57cfa457a6b</td>\n",
       "      <td>aa0ce1963e4535917d129cfed08a9781</td>\n",
       "      <td>REJECTED</td>\n",
       "      <td>2022-11-16T13:20:05.270</td>\n",
       "      <td>-</td>\n",
       "      <td>incorrect class</td>\n",
       "    </tr>\n",
       "    <tr>\n",
       "      <th>99</th>\n",
       "      <td>59</td>\n",
       "      <td>other</td>\n",
       "      <td>eu.0378002a-ca33-4fef-908c-8c85d2e8eb53</td>\n",
       "      <td>NaN</td>\n",
       "      <td>NaN</td>\n",
       "      <td>NaN</td>\n",
       "      <td>https://toloka.yandex.ru/task/36403182/00022b7...</td>\n",
       "      <td>312a94f6-aa3d-4986-ae81-90c9c0b2f427</td>\n",
       "      <td>00022b77ee--6374e3eff9f3403b53a481e9</td>\n",
       "      <td>94e720de0228da331570294315b8d8d4</td>\n",
       "      <td>REJECTED</td>\n",
       "      <td>2022-11-16T13:21:51.148</td>\n",
       "      <td>-</td>\n",
       "      <td>wrong category</td>\n",
       "    </tr>\n",
       "  </tbody>\n",
       "</table>\n",
       "<p>100 rows × 14 columns</p>\n",
       "</div>"
      ],
      "text/plain": [
       "    INPUT:id OUTPUT:class                             OUTPUT:image  \\\n",
       "0          5        plate  eu.ef0918b1-6867-4903-b1a2-b3f976c81868   \n",
       "1         42         fork  eu.2ee9ac0e-8e8a-4b17-9122-2e31fe753b90   \n",
       "2         56        knife  eu.dfb4b730-1c1d-48ce-bd65-ab50d4c7dcf3   \n",
       "3          2        knife  eu.291843ca-d58a-414b-b7db-7eae23f07a61   \n",
       "4         80        plate  eu.a4baccd3-6ca1-4524-843f-9b2ff09fb20f   \n",
       "..       ...          ...                                      ...   \n",
       "95        34          cup  eu.61415209-187f-41f9-9cfc-1eda8d26485f   \n",
       "96        23        other  eu.0b781186-f3b6-4940-93e0-c2944c08a5ba   \n",
       "97        14        plate  eu.0add312b-502f-461c-bafe-6d0eb63c21f4   \n",
       "98        25        spoon  eu.ee27e6a9-8c4d-4457-b07c-bd205442b1ec   \n",
       "99        59        other  eu.0378002a-ca33-4fef-908c-8c85d2e8eb53   \n",
       "\n",
       "    GOLDEN:class  HINT:text  HINT:default_language  \\\n",
       "0            NaN        NaN                    NaN   \n",
       "1            NaN        NaN                    NaN   \n",
       "2            NaN        NaN                    NaN   \n",
       "3            NaN        NaN                    NaN   \n",
       "4            NaN        NaN                    NaN   \n",
       "..           ...        ...                    ...   \n",
       "95           NaN        NaN                    NaN   \n",
       "96           NaN        NaN                    NaN   \n",
       "97           NaN        NaN                    NaN   \n",
       "98           NaN        NaN                    NaN   \n",
       "99           NaN        NaN                    NaN   \n",
       "\n",
       "                                      ASSIGNMENT:link  \\\n",
       "0   https://toloka.yandex.ru/task/36403182/00022b7...   \n",
       "1   https://toloka.yandex.ru/task/36403182/00022b7...   \n",
       "2   https://toloka.yandex.ru/task/36403182/00022b7...   \n",
       "3   https://toloka.yandex.ru/task/36403182/00022b7...   \n",
       "4   https://toloka.yandex.ru/task/36403182/00022b7...   \n",
       "..                                                ...   \n",
       "95  https://toloka.yandex.ru/task/36403182/00022b7...   \n",
       "96  https://toloka.yandex.ru/task/36403182/00022b7...   \n",
       "97  https://toloka.yandex.ru/task/36403182/00022b7...   \n",
       "98  https://toloka.yandex.ru/task/36403182/00022b7...   \n",
       "99  https://toloka.yandex.ru/task/36403182/00022b7...   \n",
       "\n",
       "                      ASSIGNMENT:task_id  \\\n",
       "0   93afca57-1512-424b-af86-872651e0b7b4   \n",
       "1   a489cf1d-0405-4c2d-98e0-a2b6e18b4d7c   \n",
       "2   55e07530-83fe-41ae-8102-97493a6b22ab   \n",
       "3   7d5e85b1-3fe1-4760-b27f-d08883ab4460   \n",
       "4   e6e2b2b5-0e03-43e8-bbe9-4254eac91b43   \n",
       "..                                   ...   \n",
       "95  a150fd9c-e7d1-4ff9-99be-e093c1cc585f   \n",
       "96  c8501d8b-a142-4ec1-9cbf-320a91d4be1f   \n",
       "97  f77f229c-721f-4244-884b-2cc35f32eae4   \n",
       "98  2dfdb66f-30fd-4ff2-b5a4-e8c6a1a8209f   \n",
       "99  312a94f6-aa3d-4986-ae81-90c9c0b2f427   \n",
       "\n",
       "                ASSIGNMENT:assignment_id              ASSIGNMENT:worker_id  \\\n",
       "0   00022b77ee--6374dde990c64e0edecb7d2e  d89422cad3fbc77d3e9fa8c9fe04ebc6   \n",
       "1   00022b77ee--6374ddebc11de57cfa4513f6  3b3f05d140d48e3d287ae403e8cfbcd9   \n",
       "2   00022b77ee--6374ddffdc8ddf15d372b807  847e53fa8099557dfb8fc14707e1b45e   \n",
       "3   00022b77ee--6374de099069a1738b88d7ec  af527363b713e4a4e308e81725f2f87f   \n",
       "4   00022b77ee--6374de0c863b5d79753885fd  139791b8f25dd9d1b97978c493809d20   \n",
       "..                                   ...                               ...   \n",
       "95  00022b77ee--6374e35ec4d9875251374b19  514a8effbbdb0f005a673e8e7a2c6f49   \n",
       "96  00022b77ee--6374e382126b9f0dd5e4b669  aa930f811d64c7f4ee101c3505145401   \n",
       "97  00022b77ee--6374e383c11de57cfa457a61  985950b7b4fc111bdef28369295ced29   \n",
       "98  00022b77ee--6374e385c11de57cfa457a6b  aa0ce1963e4535917d129cfed08a9781   \n",
       "99  00022b77ee--6374e3eff9f3403b53a481e9  94e720de0228da331570294315b8d8d4   \n",
       "\n",
       "   ASSIGNMENT:status       ASSIGNMENT:started ACCEPT:verdict   ACCEPT:comment  \n",
       "0           APPROVED  2022-11-16T12:56:09.151              +              NaN  \n",
       "1           APPROVED  2022-11-16T12:56:11.785              +              NaN  \n",
       "2           APPROVED  2022-11-16T12:56:31.859              +              NaN  \n",
       "3           APPROVED  2022-11-16T12:56:41.182              +              NaN  \n",
       "4           APPROVED  2022-11-16T12:56:44.752              +              NaN  \n",
       "..               ...                      ...            ...              ...  \n",
       "95          REJECTED  2022-11-16T13:19:26.515              -  incorrect label  \n",
       "96          REJECTED  2022-11-16T13:20:02.588              -  not kitchenware  \n",
       "97          REJECTED  2022-11-16T13:20:03.742              -            stock  \n",
       "98          REJECTED  2022-11-16T13:20:05.270              -  incorrect class  \n",
       "99          REJECTED  2022-11-16T13:21:51.148              -   wrong category  \n",
       "\n",
       "[100 rows x 14 columns]"
      ]
     },
     "execution_count": 125,
     "metadata": {},
     "output_type": "execute_result"
    }
   ],
   "source": [
    "df"
   ]
  },
  {
   "cell_type": "code",
   "execution_count": 67,
   "id": "e6d54f4f",
   "metadata": {},
   "outputs": [],
   "source": [
    "images = df['OUTPUT:image']"
   ]
  },
  {
   "cell_type": "code",
   "execution_count": 68,
   "id": "ccdc4f52",
   "metadata": {
    "scrolled": true
   },
   "outputs": [
    {
     "data": {
      "application/vnd.jupyter.widget-view+json": {
       "model_id": "193dd1ff39e74415b3efcbe06d186edc",
       "version_major": 2,
       "version_minor": 0
      },
      "text/plain": [
       "  0%|          | 0/100 [00:00<?, ?it/s]"
      ]
     },
     "metadata": {},
     "output_type": "display_data"
    },
    {
     "name": "stdout",
     "output_type": "stream",
     "text": [
      "images/eu.ef0918b1-6867-4903-b1a2-b3f976c81868 already exist\n",
      "images/eu.2ee9ac0e-8e8a-4b17-9122-2e31fe753b90 already exist\n",
      "images/eu.dfb4b730-1c1d-48ce-bd65-ab50d4c7dcf3 already exist\n",
      "images/eu.291843ca-d58a-414b-b7db-7eae23f07a61 already exist\n",
      "images/eu.a4baccd3-6ca1-4524-843f-9b2ff09fb20f already exist\n",
      "images/eu.612d979e-5e6a-4430-977e-d2b4c495d310 already exist\n",
      "images/eu.56da494f-e570-42f3-95fe-9d3c7a03d9c3 already exist\n",
      "images/eu.e285f682-fed5-4a00-93c8-130af400bf51 already exist\n",
      "images/eu.1d6ef61a-7f44-4dbb-bac5-948bd455d21f already exist\n",
      "images/eu.0e01f4d6-381e-4f33-86d0-f6d891e6cb32 already exist\n",
      "images/eu.96f41e69-229b-4af2-8245-91156850f3ec already exist\n",
      "images/eu.36b959fa-8c6e-4c55-99c2-aed05c30bd64 already exist\n",
      "images/eu.8af9fbc1-e1df-4871-8c5e-a02687629d1f already exist\n",
      "images/eu.ff0e8ecb-b581-4f88-ae53-8ec21b7d791e already exist\n",
      "images/eu.75cdc80d-6ddb-4433-88d5-27fa1fb74e8e already exist\n",
      "images/eu.595634f4-1f67-4f14-91b9-888e8e77e7c6 already exist\n",
      "images/eu.ed541ed7-5861-44ad-804c-b780c427e8f3 already exist\n",
      "images/eu.beac39e5-9889-4b26-b133-d2f0ac51a31c already exist\n",
      "images/eu.e7380762-c1c5-455c-bf22-54e748dee528 already exist\n",
      "images/eu.df48724e-86f0-4d9c-9dce-e438c1cb673d already exist\n",
      "images/eu.bbfa2b48-9cc2-4420-95c8-10632cdfcfea already exist\n",
      "images/eu.8ce3782a-44d9-4b7c-9dbb-39b0386ce914 already exist\n",
      "images/eu.b7630b54-ad10-4e25-a1b3-0e0636aa36cb already exist\n",
      "images/eu.9aff1137-0804-478c-b604-145d13f02ebf already exist\n",
      "images/eu.7c121092-8cf5-481c-a032-9cc97155d649 already exist\n",
      "images/eu.02e2a37c-fe50-4dc5-bbb6-8f7a9872d645 already exist\n",
      "images/eu.34c661e4-87ac-46a9-babb-f4d70b51f6e2 already exist\n",
      "images/eu.c67cae4a-7e8f-4634-8814-7f28bd816ec5 already exist\n",
      "images/eu.6be366bd-4cca-4685-a85a-04caea0c6321 already exist\n",
      "images/eu.22bcdf9a-5048-4e95-871c-f2a75896ff61 already exist\n",
      "images/eu.7edf68d8-8af0-4710-92c3-bb1f6828d7d4 already exist\n",
      "images/eu.0d8b617b-e0c0-4b3f-9f7a-e31d21b1755d already exist\n",
      "images/eu.d538c89f-1413-4c1d-89f8-4b903158279b already exist\n",
      "images/eu.5a79d6f1-5054-480c-bf3f-10e88c57ba33 already exist\n",
      "images/eu.1af1f3b6-3e20-4a00-bcf9-b909c5e2519e already exist\n",
      "images/eu.cb88cdea-66f1-4f20-b7b0-e5ad7dd080fa already exist\n",
      "images/eu.cb26fe53-cba4-4373-aa7e-3e3315e44177 already exist\n",
      "images/eu.476bd674-83bb-4772-9770-b029611394cf already exist\n",
      "images/eu.9dcbcb42-8168-4045-9e35-5c2bd897baf5 already exist\n",
      "images/eu.cd8b51a8-a7ca-4447-ac07-686da7e05686 already exist\n",
      "images/eu.b45c477e-7e9c-4dd5-8812-f2888d41f75f already exist\n",
      "images/eu.8f92b580-d539-4288-bcdd-b6ae00d6d700 already exist\n",
      "images/eu.6554183b-76ab-4f8c-b04c-2181b04b049f already exist\n",
      "images/eu.84893f81-4513-4226-a634-03d09f5834b3 already exist\n",
      "images/eu.adb7a0f3-4c8c-40e0-8a9d-e8aac59b0f51 already exist\n",
      "images/eu.fb963525-8034-4922-88ab-f82372db71ff already exist\n",
      "images/eu.8a1a8275-434b-426e-9212-47b4cc2c2f28 already exist\n",
      "images/eu.4b1a0cdf-447b-4152-b5a1-c07ac9c7cc51 already exist\n",
      "images/eu.3762fc87-8434-4e3a-9864-e22271f41f60 already exist\n",
      "images/eu.9a30c68b-6252-4971-b53e-b89b5f7c5a5a already exist\n",
      "images/eu.4341b3c8-3892-4796-b29a-811df61e8d4f already exist\n",
      "images/eu.2b2e3975-08ea-4b28-b089-538f92eacb07 already exist\n",
      "images/eu.685a86c2-0e03-4b74-a6d8-cd2e64183dec already exist\n",
      "images/eu.54b68897-d0a6-463e-b3e2-b5bad43b4fc2 already exist\n",
      "images/eu.76337ea7-2b0f-4c3c-9d24-f196512c7913 already exist\n",
      "images/eu.c086c54f-acf3-4a9e-9b72-d5f4ee324f5f already exist\n",
      "images/eu.7af591f9-f0c4-4cfa-8547-c843e903e473 already exist\n",
      "images/eu.e03165c3-93c6-4294-9703-76e015ed6e39 already exist\n",
      "images/eu.e955dea8-2a9e-4d87-a193-5ae4f236488e already exist\n",
      "images/eu.a616cea7-bf1d-43da-8222-e8ff796c36a2 already exist\n",
      "images/eu.3a607b75-0e68-4c94-8c3f-146f87a8da5b already exist\n",
      "images/eu.c69991a9-8e9c-4894-b325-2509b0515cb8 already exist\n",
      "images/eu.29b879c3-7967-43d6-ae95-b11541c2f774 already exist\n",
      "images/eu.75c12b81-db51-4ddc-b475-b1387fb54fac already exist\n",
      "images/eu.393d467a-3c96-4079-9967-e3e4befa0c3a already exist\n",
      "images/eu.2495b867-ce34-489f-b35f-35a2edd890ff already exist\n",
      "images/eu.57837275-a344-4d47-a70c-472c338b4a84 already exist\n",
      "images/eu.632e7e8f-774c-480e-adae-afc75176033a already exist\n",
      "images/eu.ea1bf5d2-e1fc-4337-864f-a8cecbb4323b already exist\n",
      "images/eu.99999a3b-b781-49a2-ba6c-12a355ce4488 already exist\n",
      "images/eu.9278dc57-b1b7-477c-99bc-affb6a54c0e3 already exist\n",
      "images/eu.893939a6-883b-4d68-9914-68a9957dc794 already exist\n",
      "images/eu.ba64253e-f00b-4d56-859f-58a638c21483 already exist\n",
      "images/eu.57509a90-27cf-4582-bfb7-94546e202f4f already exist\n",
      "images/eu.a41037f5-dee8-4289-8d69-0170ac95e4c1 already exist\n",
      "images/eu.8bf0dd6b-72b4-47cf-be94-bfecb7a1fe61 already exist\n",
      "images/eu.62708091-2850-494f-9539-b7d03b3a1b4b already exist\n",
      "images/eu.324fe2f8-c2e7-41ab-a669-f5bf1a8f6845 already exist\n",
      "images/eu.e045f03f-304a-4810-a01d-04014fcfac85 already exist\n",
      "images/eu.8947e2b3-d4d6-4b11-bed8-51891d06a908 already exist\n",
      "images/eu.d79057ef-c540-4ff5-a14b-d41599ba4ff3 already exist\n",
      "images/eu.d87a61f1-3171-4399-9835-9252f262cb7f already exist\n",
      "images/eu.50cb097b-ecae-43b7-a060-6831d82297df already exist\n",
      "images/eu.f726c831-ac70-4dd6-b494-dc2778c9186c already exist\n",
      "images/eu.76e0987d-9355-4c98-ac2b-1b3ea6e3b35e already exist\n",
      "images/eu.04637925-1142-40ea-b9d6-76d102ada8f5 already exist\n",
      "images/eu.113835bc-35a1-4557-a924-790becdecdac already exist\n",
      "images/eu.01051527-a4b1-4a27-880f-d75c8f37e0ec already exist\n",
      "images/eu.f9bf08d2-5a90-4cdc-b3bc-080d590e4f6b already exist\n",
      "images/eu.54ee05e1-b21e-4775-a6e6-76c2c166f16a already exist\n",
      "images/eu.3793c07a-924a-4a81-8628-a03cf5a0b0b6 already exist\n",
      "images/eu.dc4ee29e-0b7e-491b-9016-d284b236b4f3 already exist\n",
      "images/eu.bcdbcb8e-2182-4abf-a4d8-b1393bfb2afe already exist\n",
      "images/eu.da140ccd-eefe-4ea4-b59b-27f3618ef16c already exist\n",
      "images/eu.f96ffcf5-05bf-43a6-9055-4a38cac81ec6 already exist\n",
      "images/eu.61415209-187f-41f9-9cfc-1eda8d26485f already exist\n",
      "images/eu.0b781186-f3b6-4940-93e0-c2944c08a5ba already exist\n",
      "images/eu.0add312b-502f-461c-bafe-6d0eb63c21f4 already exist\n",
      "images/eu.ee27e6a9-8c4d-4457-b07c-bd205442b1ec already exist\n",
      "images/eu.0378002a-ca33-4fef-908c-8c85d2e8eb53 already exist\n"
     ]
    }
   ],
   "source": [
    "results = util.map_progress(pool, list(images), util.download_image_and_calc_hashes)"
   ]
  },
  {
   "cell_type": "code",
   "execution_count": null,
   "id": "1c3f06cb",
   "metadata": {},
   "outputs": [],
   "source": [
    "def resize_image(image_path):\n",
    "     im.thumbnail(size, Image.Resampling.LANCZOS)"
   ]
  },
  {
   "cell_type": "code",
   "execution_count": 111,
   "id": "a54aed50",
   "metadata": {},
   "outputs": [],
   "source": [
    "from PIL import Image\n",
    "from PIL import ImageOps"
   ]
  },
  {
   "cell_type": "code",
   "execution_count": null,
   "id": "8e6c9e79",
   "metadata": {},
   "outputs": [],
   "source": []
  },
  {
   "cell_type": "code",
   "execution_count": 120,
   "id": "6419441c",
   "metadata": {},
   "outputs": [],
   "source": [
    "image = Image.open('images/eu.595634f4-1f67-4f14-91b9-888e8e77e7c6')\n",
    "image = ImageOps.exif_transpose(image)\n",
    "image.thumbnail((1000, 1000), resample=Image.Resampling.BILINEAR)"
   ]
  },
  {
   "cell_type": "raw",
   "id": "6fcc30c6",
   "metadata": {},
   "source": [
    "image."
   ]
  },
  {
   "cell_type": "code",
   "execution_count": 69,
   "id": "9a57e114",
   "metadata": {
    "scrolled": true
   },
   "outputs": [
    {
     "data": {
      "application/vnd.jupyter.widget-view+json": {
       "model_id": "28bf9f45d4364dcaaa7f75096427e157",
       "version_major": 2,
       "version_minor": 0
      },
      "text/plain": [
       "  0%|          | 0/100 [00:00<?, ?it/s]"
      ]
     },
     "metadata": {},
     "output_type": "display_data"
    }
   ],
   "source": [
    "for i, doc in tqdm(results):\n",
    "    if doc is None:\n",
    "        continue\n",
    "\n",
    "    client.index(index=\"attachment\", id=i, document=doc)"
   ]
  },
  {
   "cell_type": "code",
   "execution_count": 71,
   "id": "141638cf",
   "metadata": {
    "scrolled": true
   },
   "outputs": [
    {
     "data": {
      "text/plain": [
       "ObjectApiResponse({'_index': 'attachment', '_id': 'eu.34c661e4-87ac-46a9-babb-f4d70b51f6e2', '_version': 1, '_seq_no': 26, '_primary_term': 1, 'found': True, '_source': {'dhash': '3703031ffec8fd23', 'phash': 'bb7e569000a8df1e', 'whash': '808081c3ffffff00', 'md5': 'b5a6c4d55c92f3c479d32ee8e8e063f2'}})"
      ]
     },
     "execution_count": 71,
     "metadata": {},
     "output_type": "execute_result"
    }
   ],
   "source": [
    "client.get(index='attachment', id='eu.34c661e4-87ac-46a9-babb-f4d70b51f6e2')"
   ]
  },
  {
   "cell_type": "code",
   "execution_count": 93,
   "id": "17e11324",
   "metadata": {},
   "outputs": [],
   "source": [
    "def find_duplicates(doc):\n",
    "    should = [{\"term\": {k: v}} for (k, v) in doc.items()]\n",
    "    query = {'bool': {'should': should}}\n",
    "    \n",
    "    response = client.search(query=query, index='attachment')\n",
    "    return response['hits']\n",
    "\n",
    "def has_duplicates(doc):\n",
    "    response = find_duplicates(doc)\n",
    "    return len(response['hits']) > 0"
   ]
  },
  {
   "cell_type": "code",
   "execution_count": 94,
   "id": "99f47361",
   "metadata": {},
   "outputs": [
    {
     "data": {
      "text/plain": [
       "True"
      ]
     },
     "execution_count": 94,
     "metadata": {},
     "output_type": "execute_result"
    }
   ],
   "source": [
    "has_duplicates(results[10][1])"
   ]
  },
  {
   "cell_type": "code",
   "execution_count": null,
   "id": "3b0817f5",
   "metadata": {},
   "outputs": [],
   "source": []
  }
 ],
 "metadata": {
  "kernelspec": {
   "display_name": "Python 3 (ipykernel)",
   "language": "python",
   "name": "python3"
  },
  "language_info": {
   "codemirror_mode": {
    "name": "ipython",
    "version": 3
   },
   "file_extension": ".py",
   "mimetype": "text/x-python",
   "name": "python",
   "nbconvert_exporter": "python",
   "pygments_lexer": "ipython3",
   "version": "3.9.13"
  }
 },
 "nbformat": 4,
 "nbformat_minor": 5
}
