{
 "cells": [
  {
   "cell_type": "code",
   "execution_count": 2,
   "id": "0c59fad6",
   "metadata": {},
   "outputs": [],
   "source": [
    "import pandas as pd"
   ]
  },
  {
   "cell_type": "code",
   "execution_count": 4,
   "id": "5cb1ef9c",
   "metadata": {},
   "outputs": [],
   "source": [
    "df = pd.read_csv('batch1.csv')"
   ]
  },
  {
   "cell_type": "code",
   "execution_count": 14,
   "id": "26110f06",
   "metadata": {},
   "outputs": [],
   "source": [
    "def extract_image_id(s):\n",
    "    return s.split('/')[-1].rsplit('.', maxsplit=1)[0]"
   ]
  },
  {
   "cell_type": "code",
   "execution_count": 19,
   "id": "15503e5b",
   "metadata": {},
   "outputs": [],
   "source": [
    "df['image_id'] = df.image.apply(extract_image_id)"
   ]
  },
  {
   "cell_type": "code",
   "execution_count": 35,
   "id": "ce96742a",
   "metadata": {},
   "outputs": [],
   "source": [
    "df_all = pd.concat([\n",
    "    df[['image_id', 'image', 'most_common_class', 'final_verdict']],\n",
    "    df2[['image_id', 'image', 'most_common_class', 'final_verdict']],\n",
    "    df4[['image_id', 'image', 'most_common_class', 'final_verdict']],\n",
    "])"
   ]
  },
  {
   "cell_type": "code",
   "execution_count": 38,
   "id": "515caf70",
   "metadata": {},
   "outputs": [],
   "source": [
    "df_all = df_all.rename(columns={'image': 'image_url', 'most_common_class': 'label'})"
   ]
  },
  {
   "cell_type": "code",
   "execution_count": 41,
   "id": "95cb911e",
   "metadata": {},
   "outputs": [],
   "source": [
    "df_all = df_all[df_all.final_verdict == 'ACCEPT']"
   ]
  },
  {
   "cell_type": "code",
   "execution_count": 44,
   "id": "be0882db",
   "metadata": {},
   "outputs": [
    {
     "data": {
      "text/plain": [
       "8214"
      ]
     },
     "execution_count": 44,
     "metadata": {},
     "output_type": "execute_result"
    }
   ],
   "source": [
    "len(df_all)"
   ]
  },
  {
   "cell_type": "code",
   "execution_count": 45,
   "id": "2094f601",
   "metadata": {},
   "outputs": [
    {
     "data": {
      "text/plain": [
       "plate    1782\n",
       "cup      1720\n",
       "spoon    1452\n",
       "knife    1353\n",
       "glass    1086\n",
       "fork      821\n",
       "Name: label, dtype: int64"
      ]
     },
     "execution_count": 45,
     "metadata": {},
     "output_type": "execute_result"
    }
   ],
   "source": [
    "df_all.label.value_counts()"
   ]
  },
  {
   "cell_type": "code",
   "execution_count": 46,
   "id": "6b7d9e21",
   "metadata": {},
   "outputs": [],
   "source": [
    "df_all.to_csv('data-all.csv', index=False)"
   ]
  }
 ],
 "metadata": {
  "kernelspec": {
   "display_name": "Python 3 (ipykernel)",
   "language": "python",
   "name": "python3"
  },
  "language_info": {
   "codemirror_mode": {
    "name": "ipython",
    "version": 3
   },
   "file_extension": ".py",
   "mimetype": "text/x-python",
   "name": "python",
   "nbconvert_exporter": "python",
   "pygments_lexer": "ipython3",
   "version": "3.9.13"
  }
 },
 "nbformat": 4,
 "nbformat_minor": 5
}
