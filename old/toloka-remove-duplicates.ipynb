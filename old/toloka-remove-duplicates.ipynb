{
 "cells": [
  {
   "cell_type": "code",
   "execution_count": 2,
   "metadata": {},
   "outputs": [],
   "source": [
    "import os\n",
    "import hashlib\n",
    "import shutil\n",
    "\n",
    "from glob import glob\n",
    "\n",
    "from io import BytesIO\n",
    "\n",
    "from concurrent.futures import ProcessPoolExecutor, ThreadPoolExecutor\n",
    "\n",
    "import requests\n",
    "import imagehash\n",
    "from PIL import Image\n",
    "\n",
    "from tqdm.auto import tqdm\n"
   ]
  },
  {
   "cell_type": "code",
   "execution_count": 3,
   "metadata": {},
   "outputs": [],
   "source": [
    "def map_progress(pool, seq, f):\n",
    "    results = []\n",
    "\n",
    "    with tqdm(total=len(seq)) as progress:\n",
    "        futures = []\n",
    "\n",
    "        for el in seq:\n",
    "            future = pool.submit(f, el)\n",
    "            future.add_done_callback(lambda p: progress.update())\n",
    "            futures.append(future)\n",
    "\n",
    "        for future in futures:\n",
    "            result = future.result()\n",
    "            results.append(result)\n",
    "\n",
    "    return results"
   ]
  },
  {
   "cell_type": "code",
   "execution_count": 4,
   "metadata": {},
   "outputs": [],
   "source": [
    "def calculate_phashes(image_stream):\n",
    "    img = Image.open(image_stream)\n",
    "\n",
    "    dhash = str(imagehash.dhash(img))\n",
    "    phash = str(imagehash.phash(img))\n",
    "    whash = str(imagehash.whash(img))\n",
    "\n",
    "    return {\n",
    "        \"dhash\": dhash,\n",
    "        \"phash\": phash,\n",
    "        \"whash\": whash,\n",
    "    }\n",
    "\n",
    "\n",
    "def calculate_hashes(image_bytes):\n",
    "    stream = BytesIO(image_bytes)\n",
    "    hashes = calculate_phashes(stream)\n",
    "\n",
    "    md5 = hashlib.md5(image_bytes).hexdigest()\n",
    "    hashes[\"md5\"] = md5\n",
    "\n",
    "    return hashes"
   ]
  },
  {
   "cell_type": "code",
   "execution_count": 5,
   "metadata": {},
   "outputs": [
    {
     "name": "stderr",
     "output_type": "stream",
     "text": [
      "A subdirectory or file images already exists.\n"
     ]
    }
   ],
   "source": [
    "!mkdir images"
   ]
  },
  {
   "cell_type": "code",
   "execution_count": 6,
   "metadata": {},
   "outputs": [],
   "source": [
    "images = sorted(glob('images/*'))"
   ]
  },
  {
   "cell_type": "code",
   "execution_count": 7,
   "metadata": {},
   "outputs": [],
   "source": [
    "def read_and_calculate_hashes(filename):\n",
    "    with open(filename, 'rb') as f_in:\n",
    "        content = f_in.read()\n",
    "    h = calculate_hashes(content)\n",
    "    return (filename, h)"
   ]
  },
  {
   "cell_type": "code",
   "execution_count": 8,
   "metadata": {},
   "outputs": [
    {
     "data": {
      "application/vnd.jupyter.widget-view+json": {
       "model_id": "7a20bac8747445ae912d0e87e652dded",
       "version_major": 2,
       "version_minor": 0
      },
      "text/plain": [
       "0it [00:00, ?it/s]"
      ]
     },
     "metadata": {},
     "output_type": "display_data"
    }
   ],
   "source": [
    "with ProcessPoolExecutor() as pool:\n",
    "    hashes = map_progress(pool, images, read_and_calculate_hashes)"
   ]
  },
  {
   "cell_type": "code",
   "execution_count": 9,
   "metadata": {},
   "outputs": [],
   "source": [
    "md5s = {h['md5']: k for (k, h) in hashes}\n",
    "phashes = {h['phash']: k for (k, h) in hashes}"
   ]
  },
  {
   "cell_type": "code",
   "execution_count": 10,
   "metadata": {},
   "outputs": [],
   "source": [
    "blocked = set()"
   ]
  },
  {
   "cell_type": "code",
   "execution_count": 11,
   "metadata": {},
   "outputs": [
    {
     "data": {
      "text/plain": [
       "set()"
      ]
     },
     "execution_count": 11,
     "metadata": {},
     "output_type": "execute_result"
    }
   ],
   "source": [
    "blocked"
   ]
  },
  {
   "cell_type": "code",
   "execution_count": 12,
   "metadata": {},
   "outputs": [],
   "source": [
    "token = 'AQAAAAASV-i8AACtpQpyXW6pOEN9tzTb_q-YA4k' #os.environ['TOLOKA_TOKEN']\n",
    "host = 'https://toloka.dev'\n",
    "\n",
    "headers = {\n",
    "    'Authorization': 'OAuth %s' % token\n",
    "}"
   ]
  },
  {
   "cell_type": "code",
   "execution_count": 13,
   "metadata": {},
   "outputs": [],
   "source": [
    "def download_image_and_calc_hashes(attachment):\n",
    "    try:\n",
    "        filename = 'images/%s' % attachment\n",
    "\n",
    "        if os.path.exists(filename):\n",
    "            print('%s already exist' % filename)\n",
    "            _, h = read_and_calculate_hashes(filename)\n",
    "            return attachment, h\n",
    "\n",
    "        print('downloading %s...' % filename)\n",
    "\n",
    "        image_url_template = '%s/api/v1/attachments/%s/download'\n",
    "        image_url = image_url_template % (host, attachment)\n",
    "        res = requests.get(image_url, headers=headers)\n",
    "\n",
    "        with open(filename, 'wb') as f_out:\n",
    "            f_out.write(res.content)\n",
    "\n",
    "        h = calculate_hashes(res.content)\n",
    "        return (attachment, h)\n",
    "    except OSError:\n",
    "        return (attachment, None)"
   ]
  },
  {
   "cell_type": "code",
   "execution_count": 17,
   "metadata": {},
   "outputs": [],
   "source": [
    "def reject(id, verdict):\n",
    "    if verdict == 'accept':\n",
    "        status = 'ACCEPTED'\n",
    "        comment = 'thank you'\n",
    "    else:\n",
    "        status = 'REJECTED'\n",
    "        comment = rejection_reasons[verdict]\n",
    "\n",
    "    verdict_url_template = '%s/api/v1/assignments/%s'\n",
    "    verdict_url = verdict_url_template % (host, id)\n",
    "\n",
    "    request_body = {\n",
    "        'status': status,\n",
    "        'public_comment': comment\n",
    "    }\n",
    "    \n",
    "    resp = requests.patch(verdict_url, headers=headers, json=request_body)\n",
    "    print(id, status, comment)\n",
    "\n",
    "def reject_tuple(expand):\n",
    "    id, verdict = expand\n",
    "    reject(id, verdict)\n",
    "    \n",
    "def reject_dupplicate(id):\n",
    "    reject(id, 'duplicate')"
   ]
  },
  {
   "cell_type": "markdown",
   "metadata": {},
   "source": [
    "## Start here"
   ]
  },
  {
   "cell_type": "code",
   "execution_count": 18,
   "metadata": {},
   "outputs": [
    {
     "name": "stdout",
     "output_type": "stream",
     "text": [
      "False\n",
      "9\n"
     ]
    }
   ],
   "source": [
    "resp = requests.get(URL, headers=headers).json()\n",
    "print(resp['has_more'])\n",
    "print(len(resp['items']))\n",
    "\n",
    "items = {d['id']: d for d in resp['items']}\n",
    "users = {d['id']: d['user_id'] for d in resp['items']}"
   ]
  },
  {
   "cell_type": "code",
   "execution_count": 19,
   "metadata": {},
   "outputs": [
    {
     "data": {
      "application/vnd.jupyter.widget-view+json": {
       "model_id": "546b0f21389c47cd912b364086544631",
       "version_major": 2,
       "version_minor": 0
      },
      "text/plain": [
       "HBox(children=(IntProgress(value=0, max=9), HTML(value='')))"
      ]
     },
     "metadata": {},
     "output_type": "display_data"
    },
    {
     "name": "stdout",
     "output_type": "stream",
     "text": [
      "downloading images/b6793b19-d070-4879-938a-e754549e5501...\n",
      "downloading images/d0b0fc4d-cc2c-4abe-97cb-353423dc07d1...downloading images/167f23be-4615-498a-ace4-d0b0f64cc95f...\n",
      "\n",
      "downloading images/78334dc5-2c60-48f8-a665-5d33e357c2d5...\n",
      "downloading images/16740066-3329-4165-884a-25c42814d590...\n",
      "downloading images/df545cf1-5461-4745-8e32-c7e6e1247d2e...\n",
      "downloading images/d66fbc59-e189-47ff-b487-05d7716d75c0...\n",
      "downloading images/a18f1511-770a-4900-b748-691c6021a3b4...\n",
      "downloading images/03103065-f445-44a5-b707-53b73534f57d...\n",
      "\n"
     ]
    }
   ],
   "source": [
    "attachments = {v['solutions'][0]['output_values']['image']: k for k, v in items.items()}\n",
    "with ThreadPoolExecutor() as pool:\n",
    "    results = map_progress(pool, list(attachments), download_image_and_calc_hashes)"
   ]
  },
  {
   "cell_type": "code",
   "execution_count": 20,
   "metadata": {},
   "outputs": [],
   "source": [
    "duplicates = []\n",
    "\n",
    "for a, h in results:\n",
    "    if h is None:\n",
    "        continue\n",
    "    md5 = h['md5']\n",
    "    if md5 in md5s:\n",
    "        item_id = attachments[a]\n",
    "        print('duplicate!', item_id, a)\n",
    "        print('original:', md5s[md5])\n",
    "        duplicates.append((item_id, a))\n",
    "        continue \n",
    "\n",
    "    md5s[md5] = a\n",
    "\n",
    "duplicate_items = {i for (i, _) in duplicates}\n",
    "duplicate_attachments = {i for (_, i) in duplicates}\n",
    "duplicates_results = [(d, 'duplicate') for d in duplicate_items]"
   ]
  },
  {
   "cell_type": "code",
   "execution_count": 21,
   "metadata": {},
   "outputs": [],
   "source": [
    "for a, h in results:\n",
    "    if h is None:\n",
    "        continue\n",
    "    phash = h['phash']\n",
    "    if a in duplicate_attachments:\n",
    "        print('already md5 duplicate, skipping')\n",
    "        continue\n",
    "\n",
    "    if phash in phashes:\n",
    "        item_id = attachments[a]\n",
    "        print('phash duplicate!', item_id, a)\n",
    "        print('candidate:', phashes[phash])\n",
    "        print()\n",
    "    else:\n",
    "        phashes[phash] = a"
   ]
  },
  {
   "cell_type": "code",
   "execution_count": 22,
   "metadata": {},
   "outputs": [
    {
     "name": "stdout",
     "output_type": "stream",
     "text": [
      "9 9\n"
     ]
    }
   ],
   "source": [
    "items_pool = []\n",
    "for item_id, item in items.items():\n",
    "    if item_id not in duplicate_items:\n",
    "        items_pool.append(item_id)\n",
    "print(len(items_pool), len(items))"
   ]
  },
  {
   "cell_type": "code",
   "execution_count": 23,
   "metadata": {},
   "outputs": [
    {
     "data": {
      "application/vnd.jupyter.widget-view+json": {
       "model_id": "01df0ae7c755402a9202dd6932e465e1",
       "version_major": 2,
       "version_minor": 0
      },
      "text/plain": [
       "HTML(value='0 examples annotated, 10 examples left')"
      ]
     },
     "metadata": {},
     "output_type": "display_data"
    },
    {
     "data": {
      "application/vnd.jupyter.widget-view+json": {
       "model_id": "fe4e91e8312e44e597b633d6fdb1fdc5",
       "version_major": 2,
       "version_minor": 0
      },
      "text/plain": [
       "HBox(children=(Button(description='accept', style=ButtonStyle()), Button(description='stock', style=ButtonStyl…"
      ]
     },
     "metadata": {},
     "output_type": "display_data"
    },
    {
     "data": {
      "application/vnd.jupyter.widget-view+json": {
       "model_id": "8c168b4d48074b089ea8c48c87aff978",
       "version_major": 2,
       "version_minor": 0
      },
      "text/plain": [
       "Output()"
      ]
     },
     "metadata": {},
     "output_type": "display_data"
    },
    {
     "name": "stdout",
     "output_type": "stream",
     "text": [
      "Annotation done.\n"
     ]
    }
   ],
   "source": [
    "results = annotate(items_pool,\n",
    "    options=options,\n",
    "    include_skip=False,\n",
    "    display_fn=show_item)"
   ]
  },
  {
   "cell_type": "code",
   "execution_count": 24,
   "metadata": {},
   "outputs": [
    {
     "data": {
      "text/plain": [
       "Counter({'accept': 8, 'bad_quality': 1})"
      ]
     },
     "execution_count": 24,
     "metadata": {},
     "output_type": "execute_result"
    }
   ],
   "source": [
    "all_results = duplicates_results + results\n",
    "Counter([v for (_, v) in all_results])"
   ]
  },
  {
   "cell_type": "code",
   "execution_count": 25,
   "metadata": {},
   "outputs": [
    {
     "data": {
      "application/vnd.jupyter.widget-view+json": {
       "model_id": "8d8aa2baf204456d90c8a36da952fd37",
       "version_major": 2,
       "version_minor": 0
      },
      "text/plain": [
       "HBox(children=(IntProgress(value=0, max=9), HTML(value='')))"
      ]
     },
     "metadata": {},
     "output_type": "display_data"
    },
    {
     "name": "stdout",
     "output_type": "stream",
     "text": [
      "0000edc476--5f2fe2ac64fc8d11aa14d064 ACCEPTED отлично, спасибо\n",
      "0000edc476--5f2fda9f17028d7448a50a4f ACCEPTED отлично, спасибо\n",
      "0000edc476--5f2fe1712a01ac6dd718ca37 ACCEPTED отлично, спасибо\n",
      "0000edc476--5f2fe08007d73947a61890fe ACCEPTED отлично, спасибо\n",
      "0000edc476--5f2fd9f094ee1b7a5d5cadb0 ACCEPTED отлично, спасибо\n",
      "0000edc476--5f2fd9067b8dbe5e5bff8fac ACCEPTED отлично, спасибо\n",
      "0000edc476--5f2fdc9122d6df43d6d3bfb6 ACCEPTED отлично, спасибо\n",
      "0000edc476--5f2fdab64c55035903c5ccca REJECTED плохое качество, плохо видно одежду\n",
      "0000edc476--5f2fe30fb6f8735169f96416 ACCEPTED отлично, спасибо\n",
      "\n"
     ]
    }
   ],
   "source": [
    "with ThreadPoolExecutor() as pool:\n",
    "    map_progress(pool, all_results, reject_tuple)"
   ]
  },
  {
   "cell_type": "code",
   "execution_count": 26,
   "metadata": {},
   "outputs": [
    {
     "data": {
      "application/vnd.jupyter.widget-view+json": {
       "model_id": "c96bc02062f040d1a937da5246a5d85f",
       "version_major": 2,
       "version_minor": 0
      },
      "text/plain": [
       "HBox(children=(IntProgress(value=0, max=9), HTML(value='')))"
      ]
     },
     "metadata": {},
     "output_type": "display_data"
    },
    {
     "name": "stdout",
     "output_type": "stream",
     "text": [
      "\n"
     ]
    }
   ],
   "source": [
    "for id, verdict in tqdm(all_results):\n",
    "    if verdict in {'stock', 'not clothes', 'duplicate'}:\n",
    "        user_id = users[id]\n",
    "        block_user(user_id, rejection_reasons[verdict])"
   ]
  },
  {
   "cell_type": "markdown",
   "metadata": {},
   "source": [
    "    for id, verdict in results:\n",
    "        if verdict != 'accept':\n",
    "            continue\n",
    "\n",
    "        item = items[id]\n",
    "        output = item['solutions'][0]['output_values']\n",
    "        attachment = output['image']\n",
    "\n",
    "        src_file = 'images/%s' % attachment\n",
    "        dest_file = 'accepted/%s' % attachment\n",
    "\n",
    "        shutil.copyfile(src_file, dest_file)\n",
    "        print('copied %s to %s, verdict: %s' % (src_file, dest_file, verdict))"
   ]
  },
  {
   "cell_type": "code",
   "execution_count": 27,
   "metadata": {},
   "outputs": [],
   "source": []
  }
 ],
 "metadata": {
  "kernelspec": {
   "display_name": "Python 3 (ipykernel)",
   "language": "python",
   "name": "python3"
  },
  "language_info": {
   "codemirror_mode": {
    "name": "ipython",
    "version": 3
   },
   "file_extension": ".py",
   "mimetype": "text/x-python",
   "name": "python",
   "nbconvert_exporter": "python",
   "pygments_lexer": "ipython3",
   "version": "3.9.13"
  }
 },
 "nbformat": 4,
 "nbformat_minor": 2
}
