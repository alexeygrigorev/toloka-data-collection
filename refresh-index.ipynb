{
 "cells": [
  {
   "cell_type": "code",
   "execution_count": 1,
   "id": "30be7961",
   "metadata": {},
   "outputs": [],
   "source": [
    "%load_ext autoreload\n",
    "%autoreload 2"
   ]
  },
  {
   "cell_type": "code",
   "execution_count": 2,
   "id": "5e452b24",
   "metadata": {},
   "outputs": [],
   "source": [
    "import util"
   ]
  },
  {
   "cell_type": "code",
   "execution_count": 3,
   "id": "f6214ca1",
   "metadata": {},
   "outputs": [
    {
     "data": {
      "text/plain": [
       "ObjectApiResponse({'name': '29617d95b9d1', 'cluster_name': 'docker-cluster', 'cluster_uuid': 'axIx5HhRQY6iIouQ_OkZ1A', 'version': {'number': '8.5.1', 'build_flavor': 'default', 'build_type': 'docker', 'build_hash': 'c1310c45fc534583afe2c1c03046491efba2bba2', 'build_date': '2022-11-09T21:02:20.169855900Z', 'build_snapshot': False, 'lucene_version': '9.4.1', 'minimum_wire_compatibility_version': '7.17.0', 'minimum_index_compatibility_version': '7.0.0'}, 'tagline': 'You Know, for Search'})"
      ]
     },
     "execution_count": 3,
     "metadata": {},
     "output_type": "execute_result"
    }
   ],
   "source": [
    "from elasticsearch import Elasticsearch\n",
    "client = Elasticsearch(\"http://localhost:9200\", basic_auth=('elastic', 'changeme'))\n",
    "client.info()"
   ]
  },
  {
   "cell_type": "code",
   "execution_count": 9,
   "id": "a15cab70",
   "metadata": {},
   "outputs": [
    {
     "name": "stderr",
     "output_type": "stream",
     "text": [
      "C:\\Users\\alexe\\AppData\\Local\\Temp\\ipykernel_9980\\4119690729.py:13: DeprecationWarning: Passing transport options in the API method is deprecated. Use 'Elasticsearch.options()' instead.\n",
      "  client.indices.delete(index='attachment', ignore=404)\n",
      "C:\\Users\\alexe\\AppData\\Local\\Temp\\ipykernel_9980\\4119690729.py:14: DeprecationWarning: The 'body' parameter is deprecated and will be removed in a future version. Instead use individual parameters.\n",
      "  client.indices.create(index='attachment', body=attachment_schema)\n"
     ]
    },
    {
     "data": {
      "text/plain": [
       "ObjectApiResponse({'acknowledged': True, 'shards_acknowledged': True, 'index': 'attachment'})"
      ]
     },
     "execution_count": 9,
     "metadata": {},
     "output_type": "execute_result"
    }
   ],
   "source": [
    "attachment_schema = {\n",
    "    \"settings\": {\"number_of_shards\": 1},\n",
    "    \"mappings\": {            \n",
    "        \"properties\": {\n",
    "            \"md5\": {\"type\": \"keyword\"},\n",
    "            \"phash\": {\"type\": \"keyword\"},\n",
    "            \"dhash\": {\"type\": \"keyword\"},\n",
    "            \"whash\": {\"type\": \"keyword\"},\n",
    "        }\n",
    "    },\n",
    "}\n",
    "\n",
    "client.indices.delete(index='attachment', ignore=404)\n",
    "client.indices.create(index='attachment', body=attachment_schema)"
   ]
  },
  {
   "cell_type": "code",
   "execution_count": null,
   "id": "3b0817f5",
   "metadata": {},
   "outputs": [],
   "source": []
  }
 ],
 "metadata": {
  "kernelspec": {
   "display_name": "Python 3 (ipykernel)",
   "language": "python",
   "name": "python3"
  },
  "language_info": {
   "codemirror_mode": {
    "name": "ipython",
    "version": 3
   },
   "file_extension": ".py",
   "mimetype": "text/x-python",
   "name": "python",
   "nbconvert_exporter": "python",
   "pygments_lexer": "ipython3",
   "version": "3.9.13"
  }
 },
 "nbformat": 4,
 "nbformat_minor": 5
}
